{
 "cells": [
  {
   "cell_type": "code",
   "execution_count": 74,
   "id": "e35e2a81",
   "metadata": {},
   "outputs": [],
   "source": [
    "# Imports\n",
    "\n",
    "from bs4 import BeautifulSoup\n",
    "import requests \n",
    "import smtplib\n",
    "import time\n",
    "import datetime\n",
    "import csv\n",
    "import pandas as pd\n",
    "\n",
    "\n"
   ]
  },
  {
   "cell_type": "code",
   "execution_count": 49,
   "id": "3c7b7b3b",
   "metadata": {},
   "outputs": [
    {
     "name": "stdout",
     "output_type": "stream",
     "text": [
      "        Coca-Cola Vintage White Enjoy Logo Graphic T-Shirt       \n",
      "\n",
      "                     $21.99\n",
      "                    \n",
      "\n",
      "                       4.5 out of 5 stars\n",
      "                      \n",
      "There is a womens version\n"
     ]
    }
   ],
   "source": [
    "# Connect to Amazon page \n",
    "\n",
    "URL = 'https://www.amazon.com/Coca-Cola-Vintage-White-Graphic-T-Shirt/dp/B07KV9WY3G/ref=sr_1_2?crid=1MXGKAZVS3I9D&keywords=coke+shirt&qid=1641395553&sprefix=coke+shirt%2Caps%2C137&sr=8-2'\n",
    "\n",
    "#headers = {\"User-Agent\": \"Mozilla/5.0 (Windows NT 10.0; Win64; x64) AppleWebKit/537.36 (KHTML, like Gecko) Chrome/78.0.3904.108 Safari/537.36\", \"Accept-Encoding\":\"gzip, deflate\", \"Accept\":\"text/html,application/xhtml+xml,application/xml;q=0.9,*/*;q=0.8\", \"DNT\":\"1\",\"Connection\":\"close\", \"Upgrade-Insecure-Requests\":\"1\"}\n",
    "\n",
    "page = requests.get(URL, headers=headers)\n",
    "\n",
    "soup1 = BeautifulSoup(page.content, 'html.parser')\n",
    "soup2 = BeautifulSoup(soup1.prettify(), 'html.parser')\n",
    "soup3 = BeautifulSoup(soup1.prettify(), 'html.parser')\n",
    "soup4 = BeautifulSoup(soup1.prettify(), 'html.parser')\n",
    "\n",
    "\n",
    "title = soup1.find(id = 'productTitle').get_text()\n",
    "price = soup2.find(\"span\", class_=\"a-offscreen\").text\n",
    "star_ratings = soup3.find(\"span\", class_=\"a-icon-alt\").text\n",
    "\n",
    "womens = False\n",
    "\n",
    "womens_check = soup4.find(id =\"fit_type_1\").get_text\n",
    "\n",
    "\n",
    "\n",
    "print(title)\n",
    "print(price)\n",
    "print(star_ratings)\n",
    "\n",
    "\n",
    "if womens_check == None:\n",
    "    print(\"Fail\")\n",
    "else:\n",
    "    womens = True\n",
    "    print(\"There is a womens version\")\n",
    "\n"
   ]
  },
  {
   "cell_type": "code",
   "execution_count": 65,
   "id": "5617ee9a",
   "metadata": {},
   "outputs": [
    {
     "name": "stdout",
     "output_type": "stream",
     "text": [
      "21.99\n"
     ]
    }
   ],
   "source": [
    "# Take Everything from the first point onward\n",
    "\n",
    "price = price.strip()[1:]\n",
    "print(price)\n"
   ]
  },
  {
   "cell_type": "code",
   "execution_count": 63,
   "id": "e671afe7",
   "metadata": {},
   "outputs": [
    {
     "name": "stdout",
     "output_type": "stream",
     "text": [
      "\n",
      "                       4.5 \n",
      "4.5\n"
     ]
    }
   ],
   "source": [
    "# Take Number of stars only not max\n",
    "\n",
    "star_split = star_ratings.split(\"o\")[0]\n",
    "star_strip = star_split.strip()\n",
    "print(star_strip)"
   ]
  },
  {
   "cell_type": "code",
   "execution_count": 61,
   "id": "46295c16",
   "metadata": {},
   "outputs": [
    {
     "name": "stdout",
     "output_type": "stream",
     "text": [
      "Coca-Cola Vintage White Enjoy Logo Graphic T-Shirt\n"
     ]
    }
   ],
   "source": [
    "# Get Rid of Indentations\n",
    "\n",
    "title = title.strip()\n",
    "print(title)"
   ]
  },
  {
   "cell_type": "code",
   "execution_count": 64,
   "id": "4995c779",
   "metadata": {},
   "outputs": [
    {
     "name": "stdout",
     "output_type": "stream",
     "text": [
      "True\n"
     ]
    }
   ],
   "source": [
    "# Checking to make sure womens is fine\n",
    "\n",
    "print(womens)"
   ]
  },
  {
   "cell_type": "code",
   "execution_count": 71,
   "id": "1a125b45",
   "metadata": {},
   "outputs": [
    {
     "name": "stdout",
     "output_type": "stream",
     "text": [
      "2022-01-05\n"
     ]
    }
   ],
   "source": [
    "today = datetime.date.today()\n",
    "print(today)"
   ]
  },
  {
   "cell_type": "code",
   "execution_count": 73,
   "id": "d8be63b3",
   "metadata": {},
   "outputs": [],
   "source": [
    "# Creating CSV \n",
    "\n",
    "header = ['Product Name', 'Price', 'Stars', 'Womens Version', 'Date Added/Updated']\n",
    "\n",
    "# Converting to list\n",
    "data = [title, price, star_strip, womens, today]\n",
    "\n",
    "with open('Amazon_WebScraper_Dataset.csv', 'w', newline = '', encoding = 'UTF8') as f:\n",
    "    writer = csv.writer(f)\n",
    "    writer.writerow(header)\n",
    "    writer.writerow(data)\n",
    "\n",
    "# If ran again it will overwrite the previous CSV\n"
   ]
  },
  {
   "cell_type": "code",
   "execution_count": 70,
   "id": "2fd7c756",
   "metadata": {},
   "outputs": [
    {
     "name": "stdout",
     "output_type": "stream",
     "text": [
      "2022-01-05\n"
     ]
    }
   ],
   "source": [
    "today = datetime.date.today()\n",
    "print(today)"
   ]
  },
  {
   "cell_type": "code",
   "execution_count": 76,
   "id": "94f0dee5",
   "metadata": {},
   "outputs": [
    {
     "name": "stdout",
     "output_type": "stream",
     "text": [
      "                                        Product Name  Price  Stars  \\\n",
      "0  Coca-Cola Vintage White Enjoy Logo Graphic T-S...  21.99    4.5   \n",
      "\n",
      "   Womens Version Date Added/Updated  \n",
      "0            True         2022-01-05  \n"
     ]
    }
   ],
   "source": [
    "df = pd.read_csv(r'C:\\Users\\James\\Amazon_WebScraper_Dataset.csv')\n",
    "print(df)"
   ]
  },
  {
   "cell_type": "code",
   "execution_count": null,
   "id": "01a09b23",
   "metadata": {},
   "outputs": [],
   "source": [
    "# Appending Data\n",
    "\n",
    "with open('Amazon_WebScraper_Dataset.csv', 'a+', newline = '', encoding = 'UTF8') as f:\n",
    "    writer = csv.writer(f)\n",
    "    writer.writerow(data)"
   ]
  },
  {
   "cell_type": "code",
   "execution_count": 78,
   "id": "660f2fbe",
   "metadata": {},
   "outputs": [],
   "source": [
    "# Creating a function\n",
    "def check_price():\n",
    "    from bs4 import BeautifulSoup\n",
    "    import requests \n",
    "    import smtplib\n",
    "    import time\n",
    "    import datetime\n",
    "    import csv\n",
    "    import pandas as pd\n",
    "\n",
    "\n",
    "\n",
    "    URL = 'https://www.amazon.com/Coca-Cola-Vintage-White-Graphic-T-Shirt/dp/B07KV9WY3G/ref=sr_1_2?crid=1MXGKAZVS3I9D&keywords=coke+shirt&qid=1641395553&sprefix=coke+shirt%2Caps%2C137&sr=8-2'\n",
    "\n",
    "    #headers = {\"User-Agent\": \"Mozilla/5.0 (Windows NT 10.0; Win64; x64) AppleWebKit/537.36 (KHTML, like Gecko) Chrome/78.0.3904.108 Safari/537.36\", \"Accept-Encoding\":\"gzip, deflate\", \"Accept\":\"text/html,application/xhtml+xml,application/xml;q=0.9,*/*;q=0.8\", \"DNT\":\"1\",\"Connection\":\"close\", \"Upgrade-Insecure-Requests\":\"1\"}\n",
    "\n",
    "    page = requests.get(URL, headers=headers)\n",
    "\n",
    "    soup1 = BeautifulSoup(page.content, 'html.parser')\n",
    "    soup2 = BeautifulSoup(soup1.prettify(), 'html.parser')\n",
    "    soup3 = BeautifulSoup(soup1.prettify(), 'html.parser')\n",
    "    soup4 = BeautifulSoup(soup1.prettify(), 'html.parser')\n",
    "\n",
    "\n",
    "    title = soup1.find(id = 'productTitle').get_text()\n",
    "    price = soup2.find(\"span\", class_=\"a-offscreen\").text\n",
    "    star_ratings = soup3.find(\"span\", class_=\"a-icon-alt\").text\n",
    "\n",
    "    womens = False\n",
    "\n",
    "    womens_check = soup4.find(id =\"fit_type_1\").get_text\n",
    "    \n",
    "    if womens_check == None:\n",
    "        print(\"Fail\")\n",
    "    else:\n",
    "        womens = True\n",
    "\n",
    "\n",
    "    price = price.strip()[1:]\n",
    "    \n",
    "    star_split = star_ratings.split(\"o\")[0]\n",
    "    star_strip = star_split.strip()\n",
    "\n",
    "    today = datetime.date.today()\n",
    "    \n",
    "    \n",
    "    header = ['Product Name', 'Price', 'Stars', 'Womens Version', 'Date Added/Updated']\n",
    "\n",
    "    # Converting to list\n",
    "    data = [title, price, star_strip, womens, today]\n",
    "    \n",
    "    with open('Amazon_WebScraper_Dataset.csv', 'a+', newline = '', encoding = 'UTF8') as f:\n",
    "        writer = csv.writer(f)\n",
    "        writer.writerow(data)\n",
    "    "
   ]
  },
  {
   "cell_type": "code",
   "execution_count": null,
   "id": "258fc681",
   "metadata": {},
   "outputs": [],
   "source": [
    "# Every Amazon every day sec check  \n",
    "while(True):\n",
    "    check_price()\n",
    "    time.sleep(86400) #86400 seconds in a day"
   ]
  },
  {
   "cell_type": "code",
   "execution_count": 81,
   "id": "3e1776b3",
   "metadata": {},
   "outputs": [
    {
     "name": "stdout",
     "output_type": "stream",
     "text": [
      "                                        Product Name  Price  Stars  \\\n",
      "0  Coca-Cola Vintage White Enjoy Logo Graphic T-S...  21.99    4.5   \n",
      "1          Coca-Cola Vintage White Enjoy Logo Gra...  21.99    4.5   \n",
      "2          Coca-Cola Vintage White Enjoy Logo Gra...  21.99    4.5   \n",
      "3          Coca-Cola Vintage White Enjoy Logo Gra...  21.99    4.5   \n",
      "4          Coca-Cola Vintage White Enjoy Logo Gra...  21.99    4.5   \n",
      "5          Coca-Cola Vintage White Enjoy Logo Gra...  21.99    4.5   \n",
      "6          Coca-Cola Vintage White Enjoy Logo Gra...  21.99    4.5   \n",
      "\n",
      "   Womens Version Date Added/Updated  \n",
      "0            True         2022-01-05  \n",
      "1            True         2022-01-05  \n",
      "2            True         2022-01-05  \n",
      "3            True         2022-01-05  \n",
      "4            True         2022-01-05  \n",
      "5            True         2022-01-05  \n",
      "6            True         2022-01-05  \n"
     ]
    }
   ],
   "source": [
    "df = pd.read_csv(r'C:\\Users\\James\\Amazon_WebScraper_Dataset.csv')\n",
    "print(df)"
   ]
  },
  {
   "cell_type": "code",
   "execution_count": null,
   "id": "e010962c",
   "metadata": {},
   "outputs": [],
   "source": []
  }
 ],
 "metadata": {
  "kernelspec": {
   "display_name": "Python 3 (ipykernel)",
   "language": "python",
   "name": "python3"
  },
  "language_info": {
   "codemirror_mode": {
    "name": "ipython",
    "version": 3
   },
   "file_extension": ".py",
   "mimetype": "text/x-python",
   "name": "python",
   "nbconvert_exporter": "python",
   "pygments_lexer": "ipython3",
   "version": "3.9.7"
  }
 },
 "nbformat": 4,
 "nbformat_minor": 5
}
